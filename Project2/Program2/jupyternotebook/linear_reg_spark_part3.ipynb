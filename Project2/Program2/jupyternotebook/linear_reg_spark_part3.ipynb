{
 "cells": [
  {
   "cell_type": "code",
   "execution_count": 1,
   "id": "least-desktop",
   "metadata": {
    "ExecuteTime": {
     "end_time": "2021-03-27T22:37:08.346517Z",
     "start_time": "2021-03-27T22:37:08.165327Z"
    }
   },
   "outputs": [],
   "source": [
    "from pyspark.sql import functions as F\n",
    "from pyspark.ml.feature import VectorAssembler\n",
    "from pyspark.ml.regression import LinearRegression\n",
    "# from pyspark import SparkContext\n",
    "# sc = SparkContext.getOrCreate()"
   ]
  },
  {
   "cell_type": "code",
   "execution_count": 2,
   "id": "electric-ability",
   "metadata": {
    "ExecuteTime": {
     "end_time": "2021-03-27T22:37:11.474710Z",
     "start_time": "2021-03-27T22:37:08.346517Z"
    }
   },
   "outputs": [],
   "source": [
    "import findspark\n",
    "findspark.init(r'C:\\Users\\14126\\Downloads\\university_of_pittsburgh\\Classes\\Spring2020\\2750_cloud_computing\\Project2\\files\\spark-3.1.1-bin-hadoop2.7')\n",
    "from pyspark.sql import SparkSession\n",
    "spark = SparkSession.builder.getOrCreate()"
   ]
  },
  {
   "cell_type": "code",
   "execution_count": 3,
   "id": "medieval-purchase",
   "metadata": {
    "ExecuteTime": {
     "end_time": "2021-03-27T22:37:16.300158Z",
     "start_time": "2021-03-27T22:37:11.475720Z"
    }
   },
   "outputs": [
    {
     "name": "stdout",
     "output_type": "stream",
     "text": [
      "+--------------+---+---+--------------------+------+--------------------+---+-----+\n",
      "|           _c0|_c1|_c2|                 _c3|   _c4|                 _c5|_c6|  _c7|\n",
      "+--------------+---+---+--------------------+------+--------------------+---+-----+\n",
      "|10.223.157.186|  -|  -|[15/Jul/2009:14:5...|-0700]|      GET / HTTP/1.1|403|  202|\n",
      "|10.223.157.186|  -|  -|[15/Jul/2009:14:5...|-0700]|GET /favicon.ico ...|404|  209|\n",
      "|10.223.157.186|  -|  -|[15/Jul/2009:15:5...|-0700]|      GET / HTTP/1.1|200| 9157|\n",
      "|10.223.157.186|  -|  -|[15/Jul/2009:15:5...|-0700]|GET /assets/js/lo...|200|10469|\n",
      "|10.223.157.186|  -|  -|[15/Jul/2009:15:5...|-0700]|GET /assets/css/r...|200| 1014|\n",
      "|10.223.157.186|  -|  -|[15/Jul/2009:15:5...|-0700]|GET /assets/css/9...|200| 6206|\n",
      "|10.223.157.186|  -|  -|[15/Jul/2009:15:5...|-0700]|GET /assets/css/t...|200|15779|\n",
      "|10.223.157.186|  -|  -|[15/Jul/2009:15:5...|-0700]|GET /assets/js/th...|200| 4492|\n",
      "|10.223.157.186|  -|  -|[15/Jul/2009:15:5...|-0700]|GET /assets/js/li...|200|25960|\n",
      "|10.223.157.186|  -|  -|[15/Jul/2009:15:5...|-0700]|GET /assets/img/s...|200|  168|\n",
      "|10.223.157.186|  -|  -|[15/Jul/2009:15:5...|-0700]|GET /assets/img/d...|200| 5604|\n",
      "|10.223.157.186|  -|  -|[15/Jul/2009:15:5...|-0700]|GET /assets/img/d...|200|10556|\n",
      "|10.223.157.186|  -|  -|[15/Jul/2009:15:5...|-0700]|GET /assets/img/d...|200| 9925|\n",
      "|10.223.157.186|  -|  -|[15/Jul/2009:15:5...|-0700]|GET /assets/img/c...|200|  979|\n",
      "|10.223.157.186|  -|  -|[15/Jul/2009:15:5...|-0700]|GET /assets/img/h...|200| 3892|\n",
      "|10.223.157.186|  -|  -|[15/Jul/2009:15:5...|-0700]|GET /assets/img/d...|200| 5397|\n",
      "|10.223.157.186|  -|  -|[15/Jul/2009:15:5...|-0700]|GET /assets/img/l...|200| 2767|\n",
      "|10.223.157.186|  -|  -|[15/Jul/2009:15:5...|-0700]|GET /assets/img/d...|200| 5766|\n",
      "|10.223.157.186|  -|  -|[15/Jul/2009:15:5...|-0700]|GET /assets/img/h...|200|68831|\n",
      "|10.223.157.186|  -|  -|[15/Jul/2009:15:5...|-0700]|GET /assets/img/d...|200| 5766|\n",
      "+--------------+---+---+--------------------+------+--------------------+---+-----+\n",
      "only showing top 20 rows\n",
      "\n"
     ]
    }
   ],
   "source": [
    "df_log = spark.read.csv('access_log', header=False, inferSchema=True, sep=' ')\n",
    "df_log.show()"
   ]
  },
  {
   "cell_type": "code",
   "execution_count": 4,
   "id": "yellow-electricity",
   "metadata": {
    "ExecuteTime": {
     "end_time": "2021-03-27T22:37:16.423828Z",
     "start_time": "2021-03-27T22:37:16.301156Z"
    }
   },
   "outputs": [
    {
     "name": "stdout",
     "output_type": "stream",
     "text": [
      "+--------------+--------------------+\n",
      "|           _c0|                Time|\n",
      "+--------------+--------------------+\n",
      "|10.223.157.186|15/Jul/2009:14:58:59|\n",
      "|10.223.157.186|15/Jul/2009:14:58:59|\n",
      "|10.223.157.186|15/Jul/2009:15:50:35|\n",
      "|10.223.157.186|15/Jul/2009:15:50:35|\n",
      "|10.223.157.186|15/Jul/2009:15:50:35|\n",
      "|10.223.157.186|15/Jul/2009:15:50:35|\n",
      "|10.223.157.186|15/Jul/2009:15:50:35|\n",
      "|10.223.157.186|15/Jul/2009:15:50:35|\n",
      "|10.223.157.186|15/Jul/2009:15:50:35|\n",
      "|10.223.157.186|15/Jul/2009:15:50:36|\n",
      "|10.223.157.186|15/Jul/2009:15:50:36|\n",
      "|10.223.157.186|15/Jul/2009:15:50:36|\n",
      "|10.223.157.186|15/Jul/2009:15:50:36|\n",
      "|10.223.157.186|15/Jul/2009:15:50:36|\n",
      "|10.223.157.186|15/Jul/2009:15:50:36|\n",
      "|10.223.157.186|15/Jul/2009:15:50:36|\n",
      "|10.223.157.186|15/Jul/2009:15:50:36|\n",
      "|10.223.157.186|15/Jul/2009:15:50:36|\n",
      "|10.223.157.186|15/Jul/2009:15:50:36|\n",
      "|10.223.157.186|15/Jul/2009:15:50:37|\n",
      "+--------------+--------------------+\n",
      "only showing top 20 rows\n",
      "\n"
     ]
    }
   ],
   "source": [
    "df1 = df_log.select(\"_c0\", F.regexp_replace(F.col(\"_c3\"), \"\\[\", \"\").alias(\"Time\"))\n",
    "df1.show()"
   ]
  },
  {
   "cell_type": "code",
   "execution_count": 5,
   "id": "electoral-tulsa",
   "metadata": {
    "ExecuteTime": {
     "end_time": "2021-03-27T22:37:16.549489Z",
     "start_time": "2021-03-27T22:37:16.424825Z"
    }
   },
   "outputs": [
    {
     "name": "stdout",
     "output_type": "stream",
     "text": [
      "+--------------+-------------------+\n",
      "|           _c0|               date|\n",
      "+--------------+-------------------+\n",
      "|10.223.157.186|2009-07-15 14:58:59|\n",
      "|10.223.157.186|2009-07-15 14:58:59|\n",
      "|10.223.157.186|2009-07-15 15:50:35|\n",
      "|10.223.157.186|2009-07-15 15:50:35|\n",
      "|10.223.157.186|2009-07-15 15:50:35|\n",
      "|10.223.157.186|2009-07-15 15:50:35|\n",
      "|10.223.157.186|2009-07-15 15:50:35|\n",
      "|10.223.157.186|2009-07-15 15:50:35|\n",
      "|10.223.157.186|2009-07-15 15:50:35|\n",
      "|10.223.157.186|2009-07-15 15:50:36|\n",
      "|10.223.157.186|2009-07-15 15:50:36|\n",
      "|10.223.157.186|2009-07-15 15:50:36|\n",
      "|10.223.157.186|2009-07-15 15:50:36|\n",
      "|10.223.157.186|2009-07-15 15:50:36|\n",
      "|10.223.157.186|2009-07-15 15:50:36|\n",
      "|10.223.157.186|2009-07-15 15:50:36|\n",
      "|10.223.157.186|2009-07-15 15:50:36|\n",
      "|10.223.157.186|2009-07-15 15:50:36|\n",
      "|10.223.157.186|2009-07-15 15:50:36|\n",
      "|10.223.157.186|2009-07-15 15:50:37|\n",
      "+--------------+-------------------+\n",
      "only showing top 20 rows\n",
      "\n"
     ]
    }
   ],
   "source": [
    "df_model = df1.select(\"_c0\", F.to_timestamp(df1.Time, 'dd/MMM/yyyy:HH:mm:ss').alias('date'))\n",
    "df_model.show()"
   ]
  },
  {
   "cell_type": "code",
   "execution_count": 6,
   "id": "disturbed-headquarters",
   "metadata": {
    "ExecuteTime": {
     "end_time": "2021-03-27T22:37:19.526531Z",
     "start_time": "2021-03-27T22:37:16.550487Z"
    }
   },
   "outputs": [
    {
     "name": "stdout",
     "output_type": "stream",
     "text": [
      "+----------+-----+\n",
      "|      year|count|\n",
      "+----------+-----+\n",
      "| 0.1258866| 2051|\n",
      "|0.12814992| 7885|\n",
      "|0.12497904|  115|\n",
      "|0.12559248|   32|\n",
      "|0.12853008| 4203|\n",
      "|0.12962772| 3238|\n",
      "|0.12963636| 4868|\n",
      "|0.13046544| 6501|\n",
      "|  0.131796| 9857|\n",
      "| 0.1271304| 4564|\n",
      "|0.12819312| 4848|\n",
      "|0.12957588| 3536|\n",
      "|0.13100112| 8722|\n",
      "|0.13109616| 8993|\n",
      "|0.13138992| 5632|\n",
      "|0.13215924| 7051|\n",
      "| 0.1279512| 7376|\n",
      "|0.12923892| 4842|\n",
      "| 0.1266642| 2222|\n",
      "|0.12712176| 6862|\n",
      "+----------+-----+\n",
      "only showing top 20 rows\n",
      "\n"
     ]
    }
   ],
   "source": [
    "df = df_model.withColumn('year',F.to_date(df_model.date)).groupby('year').count()\n",
    "df = df.withColumn(\"year\", F.unix_timestamp(\"year\", \"dd-MM-yyyy\")/10000000000)\n",
    "df = df.dropna()\n",
    "df.show()"
   ]
  },
  {
   "cell_type": "code",
   "execution_count": 7,
   "id": "separate-companion",
   "metadata": {
    "ExecuteTime": {
     "end_time": "2021-03-27T22:37:21.769617Z",
     "start_time": "2021-03-27T22:37:19.528526Z"
    }
   },
   "outputs": [
    {
     "name": "stdout",
     "output_type": "stream",
     "text": [
      "+----------+-----+------------+\n",
      "|      year|count|       input|\n",
      "+----------+-----+------------+\n",
      "| 0.1258866| 2051| [0.1258866]|\n",
      "|0.12814992| 7885|[0.12814992]|\n",
      "|0.12497904|  115|[0.12497904]|\n",
      "|0.12559248|   32|[0.12559248]|\n",
      "|0.12853008| 4203|[0.12853008]|\n",
      "|0.12962772| 3238|[0.12962772]|\n",
      "|0.12963636| 4868|[0.12963636]|\n",
      "|0.13046544| 6501|[0.13046544]|\n",
      "|  0.131796| 9857|  [0.131796]|\n",
      "| 0.1271304| 4564| [0.1271304]|\n",
      "|0.12819312| 4848|[0.12819312]|\n",
      "|0.12957588| 3536|[0.12957588]|\n",
      "|0.13100112| 8722|[0.13100112]|\n",
      "|0.13109616| 8993|[0.13109616]|\n",
      "|0.13138992| 5632|[0.13138992]|\n",
      "|0.13215924| 7051|[0.13215924]|\n",
      "| 0.1279512| 7376| [0.1279512]|\n",
      "|0.12923892| 4842|[0.12923892]|\n",
      "| 0.1266642| 2222| [0.1266642]|\n",
      "|0.12712176| 6862|[0.12712176]|\n",
      "+----------+-----+------------+\n",
      "only showing top 20 rows\n",
      "\n"
     ]
    }
   ],
   "source": [
    "feature_columns = df.columns[:-1]\n",
    "assembler = VectorAssembler(inputCols=feature_columns,outputCol=\"input\")\n",
    "data_2 = assembler.transform(df)\n",
    "data_2.show()"
   ]
  },
  {
   "cell_type": "code",
   "execution_count": 8,
   "id": "quiet-owner",
   "metadata": {
    "ExecuteTime": {
     "end_time": "2021-03-27T22:37:29.283576Z",
     "start_time": "2021-03-27T22:37:21.770615Z"
    }
   },
   "outputs": [],
   "source": [
    "train, test = data_2.randomSplit([0.8, 0.2])\n",
    "lin_reg = LinearRegression(featuresCol=\"input\", labelCol=\"count\", predictionCol='prediction')\n",
    "model = lin_reg.fit(train)\n",
    "eval_summary = model.evaluate(test)\n"
   ]
  },
  {
   "cell_type": "code",
   "execution_count": 9,
   "id": "homeless-plate",
   "metadata": {
    "ExecuteTime": {
     "end_time": "2021-03-27T22:37:29.298919Z",
     "start_time": "2021-03-27T22:37:29.283576Z"
    }
   },
   "outputs": [
    {
     "name": "stdout",
     "output_type": "stream",
     "text": [
      "1778.012258572827\n",
      "1823.6775793635018\n",
      "0.591566159730869\n"
     ]
    }
   ],
   "source": [
    "print(model.summary.meanAbsoluteError)\n",
    "print(eval_summary.rootMeanSquaredError)\n",
    "print(eval_summary.r2)"
   ]
  },
  {
   "cell_type": "code",
   "execution_count": 10,
   "id": "further-singles",
   "metadata": {
    "ExecuteTime": {
     "end_time": "2021-03-27T22:37:31.693629Z",
     "start_time": "2021-03-27T22:37:29.299916Z"
    }
   },
   "outputs": [
    {
     "name": "stdout",
     "output_type": "stream",
     "text": [
      "+----------+-----+------------+------------------+\n",
      "|      year|count|       input|        prediction|\n",
      "+----------+-----+------------+------------------+\n",
      "|0.12853008| 4203|[0.12853008]| 5360.536755179201|\n",
      "|0.12962772| 3238|[0.12962772]| 6650.771739373944|\n",
      "|0.13046544| 6501|[0.13046544]|7635.4804334444925|\n",
      "| 0.1271304| 4564| [0.1271304]|3715.2649878623197|\n",
      "|0.12827088| 6315|[0.12827088]|  5055.85679826868|\n",
      "|0.13146768| 9256|[0.13146768]| 8813.576266831922|\n",
      "| 0.1310184| 5085| [0.1310184]| 8285.464341520332|\n",
      "|0.12788208| 4465|[0.12788208]| 4598.836862902885|\n",
      "| 0.1290402| 5638| [0.1290402]| 5960.163837043394|\n",
      "|0.12703536| 1635|[0.12703536]| 3603.549003661814|\n",
      "|0.13011984| 5622|[0.13011984]| 7229.240490897122|\n",
      "|0.13178736|10790|[0.13178736]| 9189.348213688238|\n",
      "|0.12650868| 2848|[0.12650868]| 2984.456257883867|\n",
      "|0.12489264|   34|[0.12489264]| 1084.861359868024|\n",
      "|0.13169232| 8007|[0.13169232]| 9077.632229487703|\n",
      "|0.13021488| 7708|[0.13021488]| 7340.956475097686|\n",
      "|0.12772656| 5842|[0.12772656]| 4416.028888756526|\n",
      "|0.12863376| 7734|[0.12863376]|  5482.40873794342|\n",
      "|0.12813264| 7004|[0.12813264]| 4893.360821249691|\n",
      "|0.13091472|10167|[0.13091472]| 8163.592358756112|\n",
      "+----------+-----+------------+------------------+\n",
      "only showing top 20 rows\n",
      "\n"
     ]
    }
   ],
   "source": [
    "predictions = model.transform(test)\n",
    "predictions.select(predictions.columns).show()"
   ]
  },
  {
   "cell_type": "code",
   "execution_count": 11,
   "id": "incomplete-standing",
   "metadata": {
    "ExecuteTime": {
     "end_time": "2021-03-27T22:37:32.591721Z",
     "start_time": "2021-03-27T22:37:31.694600Z"
    }
   },
   "outputs": [],
   "source": [
    "path = 'linear_reg_spark_part3_model'\n",
    "model.write().overwrite().save(path)"
   ]
  },
  {
   "cell_type": "code",
   "execution_count": null,
   "id": "cognitive-switzerland",
   "metadata": {},
   "outputs": [],
   "source": []
  }
 ],
 "metadata": {
  "kernelspec": {
   "display_name": "Python 3",
   "language": "python",
   "name": "python3"
  },
  "language_info": {
   "codemirror_mode": {
    "name": "ipython",
    "version": 3
   },
   "file_extension": ".py",
   "mimetype": "text/x-python",
   "name": "python",
   "nbconvert_exporter": "python",
   "pygments_lexer": "ipython3",
   "version": "3.7.10"
  },
  "toc": {
   "base_numbering": 1,
   "nav_menu": {},
   "number_sections": true,
   "sideBar": true,
   "skip_h1_title": false,
   "title_cell": "Table of Contents",
   "title_sidebar": "Contents",
   "toc_cell": false,
   "toc_position": {},
   "toc_section_display": true,
   "toc_window_display": false
  }
 },
 "nbformat": 4,
 "nbformat_minor": 5
}
